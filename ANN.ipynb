{
 "cells": [
  {
   "cell_type": "markdown",
   "metadata": {
    "colab_type": "text",
    "id": "lP6JLo1tGNBg"
   },
   "source": [
    "# Artificial Neural Network"
   ]
  },
  {
   "cell_type": "markdown",
   "metadata": {
    "colab_type": "text",
    "id": "gWZyYmS_UE_L"
   },
   "source": [
    "### Importing the libraries"
   ]
  },
  {
   "cell_type": "code",
   "execution_count": 110,
   "metadata": {
    "colab": {},
    "colab_type": "code",
    "id": "MxkJoQBkUIHC"
   },
   "outputs": [],
   "source": [
    "import numpy as np\n",
    "import pandas as pd\n",
    "import tensorflow as tf"
   ]
  },
  {
   "cell_type": "code",
   "execution_count": 111,
   "metadata": {
    "colab": {
     "base_uri": "https://localhost:8080/",
     "height": 34
    },
    "colab_type": "code",
    "executionInfo": {
     "elapsed": 2400,
     "status": "ok",
     "timestamp": 1590257449959,
     "user": {
      "displayName": "Hadelin de Ponteves",
      "photoUrl": "https://lh3.googleusercontent.com/a-/AOh14GhEuXdT7eQweUmRPW8_laJuPggSK6hfvpl5a6WBaA=s64",
      "userId": "15047218817161520419"
     },
     "user_tz": -240
    },
    "id": "ZaTwK7ojXr2F",
    "outputId": "0b27a96d-d11a-43e8-ab4b-87c1f01896fe"
   },
   "outputs": [
    {
     "data": {
      "text/plain": [
       "'2.0.0'"
      ]
     },
     "execution_count": 111,
     "metadata": {},
     "output_type": "execute_result"
    }
   ],
   "source": [
    "tf.__version__"
   ]
  },
  {
   "cell_type": "markdown",
   "metadata": {
    "colab_type": "text",
    "id": "1E0Q3aoKUCRX"
   },
   "source": [
    "## Part 1 - Data Preprocessing"
   ]
  },
  {
   "cell_type": "code",
   "execution_count": 112,
   "metadata": {
    "colab": {},
    "colab_type": "code",
    "id": "MXUkhkMfU4wq"
   },
   "outputs": [],
   "source": [
    "dataset = pd.read_csv('Churn_Modelling.csv')\n",
    "X = dataset.iloc[:, 3:-1].values\n",
    "y = dataset.iloc[:, -1].values"
   ]
  },
  {
   "cell_type": "code",
   "execution_count": 114,
   "metadata": {},
   "outputs": [
    {
     "data": {
      "text/html": [
       "<div>\n",
       "<style scoped>\n",
       "    .dataframe tbody tr th:only-of-type {\n",
       "        vertical-align: middle;\n",
       "    }\n",
       "\n",
       "    .dataframe tbody tr th {\n",
       "        vertical-align: top;\n",
       "    }\n",
       "\n",
       "    .dataframe thead th {\n",
       "        text-align: right;\n",
       "    }\n",
       "</style>\n",
       "<table border=\"1\" class=\"dataframe\">\n",
       "  <thead>\n",
       "    <tr style=\"text-align: right;\">\n",
       "      <th></th>\n",
       "      <th>RowNumber</th>\n",
       "      <th>CustomerId</th>\n",
       "      <th>Surname</th>\n",
       "      <th>CreditScore</th>\n",
       "      <th>Geography</th>\n",
       "      <th>Gender</th>\n",
       "      <th>Age</th>\n",
       "      <th>Tenure</th>\n",
       "      <th>Balance</th>\n",
       "      <th>NumOfProducts</th>\n",
       "      <th>HasCrCard</th>\n",
       "      <th>IsActiveMember</th>\n",
       "      <th>EstimatedSalary</th>\n",
       "      <th>Exited</th>\n",
       "    </tr>\n",
       "  </thead>\n",
       "  <tbody>\n",
       "    <tr>\n",
       "      <th>0</th>\n",
       "      <td>1</td>\n",
       "      <td>15634602</td>\n",
       "      <td>Hargrave</td>\n",
       "      <td>619</td>\n",
       "      <td>France</td>\n",
       "      <td>Female</td>\n",
       "      <td>42</td>\n",
       "      <td>2</td>\n",
       "      <td>0.00</td>\n",
       "      <td>1</td>\n",
       "      <td>1</td>\n",
       "      <td>1</td>\n",
       "      <td>101348.88</td>\n",
       "      <td>1</td>\n",
       "    </tr>\n",
       "    <tr>\n",
       "      <th>1</th>\n",
       "      <td>2</td>\n",
       "      <td>15647311</td>\n",
       "      <td>Hill</td>\n",
       "      <td>608</td>\n",
       "      <td>Spain</td>\n",
       "      <td>Female</td>\n",
       "      <td>41</td>\n",
       "      <td>1</td>\n",
       "      <td>83807.86</td>\n",
       "      <td>1</td>\n",
       "      <td>0</td>\n",
       "      <td>1</td>\n",
       "      <td>112542.58</td>\n",
       "      <td>0</td>\n",
       "    </tr>\n",
       "    <tr>\n",
       "      <th>2</th>\n",
       "      <td>3</td>\n",
       "      <td>15619304</td>\n",
       "      <td>Onio</td>\n",
       "      <td>502</td>\n",
       "      <td>France</td>\n",
       "      <td>Female</td>\n",
       "      <td>42</td>\n",
       "      <td>8</td>\n",
       "      <td>159660.80</td>\n",
       "      <td>3</td>\n",
       "      <td>1</td>\n",
       "      <td>0</td>\n",
       "      <td>113931.57</td>\n",
       "      <td>1</td>\n",
       "    </tr>\n",
       "    <tr>\n",
       "      <th>3</th>\n",
       "      <td>4</td>\n",
       "      <td>15701354</td>\n",
       "      <td>Boni</td>\n",
       "      <td>699</td>\n",
       "      <td>France</td>\n",
       "      <td>Female</td>\n",
       "      <td>39</td>\n",
       "      <td>1</td>\n",
       "      <td>0.00</td>\n",
       "      <td>2</td>\n",
       "      <td>0</td>\n",
       "      <td>0</td>\n",
       "      <td>93826.63</td>\n",
       "      <td>0</td>\n",
       "    </tr>\n",
       "    <tr>\n",
       "      <th>4</th>\n",
       "      <td>5</td>\n",
       "      <td>15737888</td>\n",
       "      <td>Mitchell</td>\n",
       "      <td>850</td>\n",
       "      <td>Spain</td>\n",
       "      <td>Female</td>\n",
       "      <td>43</td>\n",
       "      <td>2</td>\n",
       "      <td>125510.82</td>\n",
       "      <td>1</td>\n",
       "      <td>1</td>\n",
       "      <td>1</td>\n",
       "      <td>79084.10</td>\n",
       "      <td>0</td>\n",
       "    </tr>\n",
       "  </tbody>\n",
       "</table>\n",
       "</div>"
      ],
      "text/plain": [
       "   RowNumber  CustomerId   Surname  CreditScore Geography  Gender  Age  \\\n",
       "0          1    15634602  Hargrave          619    France  Female   42   \n",
       "1          2    15647311      Hill          608     Spain  Female   41   \n",
       "2          3    15619304      Onio          502    France  Female   42   \n",
       "3          4    15701354      Boni          699    France  Female   39   \n",
       "4          5    15737888  Mitchell          850     Spain  Female   43   \n",
       "\n",
       "   Tenure    Balance  NumOfProducts  HasCrCard  IsActiveMember  \\\n",
       "0       2       0.00              1          1               1   \n",
       "1       1   83807.86              1          0               1   \n",
       "2       8  159660.80              3          1               0   \n",
       "3       1       0.00              2          0               0   \n",
       "4       2  125510.82              1          1               1   \n",
       "\n",
       "   EstimatedSalary  Exited  \n",
       "0        101348.88       1  \n",
       "1        112542.58       0  \n",
       "2        113931.57       1  \n",
       "3         93826.63       0  \n",
       "4         79084.10       0  "
      ]
     },
     "execution_count": 114,
     "metadata": {},
     "output_type": "execute_result"
    }
   ],
   "source": [
    "dataset.head()"
   ]
  },
  {
   "cell_type": "code",
   "execution_count": 113,
   "metadata": {
    "colab": {
     "base_uri": "https://localhost:8080/",
     "height": 137
    },
    "colab_type": "code",
    "executionInfo": {
     "elapsed": 2396,
     "status": "ok",
     "timestamp": 1590257449961,
     "user": {
      "displayName": "Hadelin de Ponteves",
      "photoUrl": "https://lh3.googleusercontent.com/a-/AOh14GhEuXdT7eQweUmRPW8_laJuPggSK6hfvpl5a6WBaA=s64",
      "userId": "15047218817161520419"
     },
     "user_tz": -240
    },
    "id": "VYP9cQTWbzuI",
    "outputId": "797e7a64-9bac-436a-8c9c-94437e5e7587"
   },
   "outputs": [
    {
     "name": "stdout",
     "output_type": "stream",
     "text": [
      "[[619 'France' 'Female' ... 1 1 101348.88]\n",
      " [608 'Spain' 'Female' ... 0 1 112542.58]\n",
      " [502 'France' 'Female' ... 1 0 113931.57]\n",
      " ...\n",
      " [709 'France' 'Female' ... 0 1 42085.58]\n",
      " [772 'Germany' 'Male' ... 1 0 92888.52]\n",
      " [792 'France' 'Female' ... 1 0 38190.78]]\n"
     ]
    }
   ],
   "source": [
    "print(X)"
   ]
  },
  {
   "cell_type": "code",
   "execution_count": 5,
   "metadata": {
    "colab": {
     "base_uri": "https://localhost:8080/",
     "height": 34
    },
    "colab_type": "code",
    "executionInfo": {
     "elapsed": 2391,
     "status": "ok",
     "timestamp": 1590257449961,
     "user": {
      "displayName": "Hadelin de Ponteves",
      "photoUrl": "https://lh3.googleusercontent.com/a-/AOh14GhEuXdT7eQweUmRPW8_laJuPggSK6hfvpl5a6WBaA=s64",
      "userId": "15047218817161520419"
     },
     "user_tz": -240
    },
    "id": "38vKGE6Nb2RR",
    "outputId": "a815e42a-e0dd-4cb5-ab97-b17ead98fbc3"
   },
   "outputs": [
    {
     "name": "stdout",
     "output_type": "stream",
     "text": [
      "[1 0 1 ... 1 1 0]\n"
     ]
    }
   ],
   "source": [
    "print(y)"
   ]
  },
  {
   "cell_type": "markdown",
   "metadata": {
    "colab_type": "text",
    "id": "N6bQ0UgSU-NJ"
   },
   "source": [
    "### Encoding categorical data"
   ]
  },
  {
   "cell_type": "markdown",
   "metadata": {
    "colab_type": "text",
    "id": "le5MJreAbW52"
   },
   "source": [
    "Label Encoding the \"Gender\" column"
   ]
  },
  {
   "cell_type": "code",
   "execution_count": 6,
   "metadata": {
    "colab": {},
    "colab_type": "code",
    "id": "PxVKWXxLbczC"
   },
   "outputs": [],
   "source": [
    "from sklearn.preprocessing import LabelEncoder\n",
    "le = LabelEncoder()\n",
    "X[:, 2] = le.fit_transform(X[:, 2])"
   ]
  },
  {
   "cell_type": "code",
   "execution_count": 7,
   "metadata": {
    "colab": {
     "base_uri": "https://localhost:8080/",
     "height": 137
    },
    "colab_type": "code",
    "executionInfo": {
     "elapsed": 2719,
     "status": "ok",
     "timestamp": 1590257450295,
     "user": {
      "displayName": "Hadelin de Ponteves",
      "photoUrl": "https://lh3.googleusercontent.com/a-/AOh14GhEuXdT7eQweUmRPW8_laJuPggSK6hfvpl5a6WBaA=s64",
      "userId": "15047218817161520419"
     },
     "user_tz": -240
    },
    "id": "-M1KboxFb6OO",
    "outputId": "e2b8c7e8-0cbc-4cdf-f4eb-7f0853a00b88"
   },
   "outputs": [
    {
     "name": "stdout",
     "output_type": "stream",
     "text": [
      "[[619 'France' 0 ... 1 1 101348.88]\n",
      " [608 'Spain' 0 ... 0 1 112542.58]\n",
      " [502 'France' 0 ... 1 0 113931.57]\n",
      " ...\n",
      " [709 'France' 0 ... 0 1 42085.58]\n",
      " [772 'Germany' 1 ... 1 0 92888.52]\n",
      " [792 'France' 0 ... 1 0 38190.78]]\n"
     ]
    }
   ],
   "source": [
    "print(X)"
   ]
  },
  {
   "cell_type": "markdown",
   "metadata": {
    "colab_type": "text",
    "id": "CUxGZezpbMcb"
   },
   "source": [
    "One Hot Encoding the \"Geography\" column"
   ]
  },
  {
   "cell_type": "code",
   "execution_count": 8,
   "metadata": {
    "colab": {},
    "colab_type": "code",
    "id": "AMXC8-KMVirw"
   },
   "outputs": [],
   "source": [
    "from sklearn.compose import ColumnTransformer\n",
    "from sklearn.preprocessing import OneHotEncoder\n",
    "ct = ColumnTransformer(transformers=[('encoder', OneHotEncoder(), [1])], remainder='passthrough')\n",
    "X = np.array(ct.fit_transform(X))"
   ]
  },
  {
   "cell_type": "code",
   "execution_count": 9,
   "metadata": {
    "colab": {
     "base_uri": "https://localhost:8080/",
     "height": 137
    },
    "colab_type": "code",
    "executionInfo": {
     "elapsed": 2713,
     "status": "ok",
     "timestamp": 1590257450296,
     "user": {
      "displayName": "Hadelin de Ponteves",
      "photoUrl": "https://lh3.googleusercontent.com/a-/AOh14GhEuXdT7eQweUmRPW8_laJuPggSK6hfvpl5a6WBaA=s64",
      "userId": "15047218817161520419"
     },
     "user_tz": -240
    },
    "id": "ZcxwEon-b8nV",
    "outputId": "23a98af4-5e33-4b26-c27b-f06e3c5d2baf"
   },
   "outputs": [
    {
     "name": "stdout",
     "output_type": "stream",
     "text": [
      "[[1.0 0.0 0.0 ... 1 1 101348.88]\n",
      " [0.0 0.0 1.0 ... 0 1 112542.58]\n",
      " [1.0 0.0 0.0 ... 1 0 113931.57]\n",
      " ...\n",
      " [1.0 0.0 0.0 ... 0 1 42085.58]\n",
      " [0.0 1.0 0.0 ... 1 0 92888.52]\n",
      " [1.0 0.0 0.0 ... 1 0 38190.78]]\n"
     ]
    }
   ],
   "source": [
    "print(X)"
   ]
  },
  {
   "cell_type": "markdown",
   "metadata": {
    "colab_type": "text",
    "id": "vHol938cW8zd"
   },
   "source": [
    "### Splitting the dataset into the Training set and Test set"
   ]
  },
  {
   "cell_type": "code",
   "execution_count": 10,
   "metadata": {
    "colab": {},
    "colab_type": "code",
    "id": "Z-TDt0Y_XEfc"
   },
   "outputs": [],
   "source": [
    "from sklearn.model_selection import train_test_split\n",
    "X_train, X_test, y_train, y_test = train_test_split(X, y, test_size = 0.2, random_state = 0)"
   ]
  },
  {
   "cell_type": "markdown",
   "metadata": {
    "colab_type": "text",
    "id": "RE_FcHyfV3TQ"
   },
   "source": [
    "### Feature Scaling"
   ]
  },
  {
   "cell_type": "code",
   "execution_count": 11,
   "metadata": {
    "colab": {},
    "colab_type": "code",
    "id": "ViCrE00rV8Sk"
   },
   "outputs": [],
   "source": [
    "from sklearn.preprocessing import StandardScaler\n",
    "sc = StandardScaler()\n",
    "X_train = sc.fit_transform(X_train)\n",
    "X_test = sc.transform(X_test)"
   ]
  },
  {
   "cell_type": "markdown",
   "metadata": {
    "colab_type": "text",
    "id": "-zfEzkRVXIwF"
   },
   "source": [
    "## Part 2 - Building the ANN"
   ]
  },
  {
   "cell_type": "markdown",
   "metadata": {
    "colab_type": "text",
    "id": "KvdeScabXtlB"
   },
   "source": [
    "### Initializing the ANN"
   ]
  },
  {
   "cell_type": "code",
   "execution_count": 12,
   "metadata": {
    "colab": {},
    "colab_type": "code",
    "id": "3dtrScHxXQox"
   },
   "outputs": [],
   "source": [
    "ann = tf.keras.models.Sequential()"
   ]
  },
  {
   "cell_type": "markdown",
   "metadata": {
    "colab_type": "text",
    "id": "rP6urV6SX7kS"
   },
   "source": [
    "### Adding the input layer and the first hidden layer"
   ]
  },
  {
   "cell_type": "code",
   "execution_count": 13,
   "metadata": {
    "colab": {},
    "colab_type": "code",
    "id": "bppGycBXYCQr"
   },
   "outputs": [],
   "source": [
    "ann.add(tf.keras.layers.Dense(units=6, activation='relu')) "
   ]
  },
  {
   "cell_type": "markdown",
   "metadata": {
    "colab_type": "text",
    "id": "BELWAc_8YJze"
   },
   "source": [
    "### Adding the second hidden layer"
   ]
  },
  {
   "cell_type": "code",
   "execution_count": 14,
   "metadata": {
    "colab": {},
    "colab_type": "code",
    "id": "JneR0u0sYRTd"
   },
   "outputs": [],
   "source": [
    "ann.add(tf.keras.layers.Dense(units=6, activation='relu'))"
   ]
  },
  {
   "cell_type": "markdown",
   "metadata": {
    "colab_type": "text",
    "id": "OyNEe6RXYcU4"
   },
   "source": [
    "### Adding the output layer"
   ]
  },
  {
   "cell_type": "code",
   "execution_count": 15,
   "metadata": {
    "colab": {},
    "colab_type": "code",
    "id": "Cn3x41RBYfvY"
   },
   "outputs": [],
   "source": [
    "ann.add(tf.keras.layers.Dense(units=1, activation='sigmoid'))"
   ]
  },
  {
   "cell_type": "markdown",
   "metadata": {
    "colab_type": "text",
    "id": "JT4u2S1_Y4WG"
   },
   "source": [
    "## Part 3 - Training the ANN"
   ]
  },
  {
   "cell_type": "markdown",
   "metadata": {
    "colab_type": "text",
    "id": "8GWlJChhY_ZI"
   },
   "source": [
    "### Compiling the ANN"
   ]
  },
  {
   "cell_type": "code",
   "execution_count": 16,
   "metadata": {
    "colab": {},
    "colab_type": "code",
    "id": "fG3RrwDXZEaS"
   },
   "outputs": [],
   "source": [
    "ann.compile(optimizer = 'adam', loss = 'binary_crossentropy', metrics = ['accuracy'])"
   ]
  },
  {
   "cell_type": "markdown",
   "metadata": {
    "colab_type": "text",
    "id": "0QR_G5u7ZLSM"
   },
   "source": [
    "### Training the ANN on the Training set"
   ]
  },
  {
   "cell_type": "code",
   "execution_count": 102,
   "metadata": {
    "colab": {
     "base_uri": "https://localhost:8080/",
     "height": 1000
    },
    "colab_type": "code",
    "executionInfo": {
     "elapsed": 33685,
     "status": "ok",
     "timestamp": 1590257481284,
     "user": {
      "displayName": "Hadelin de Ponteves",
      "photoUrl": "https://lh3.googleusercontent.com/a-/AOh14GhEuXdT7eQweUmRPW8_laJuPggSK6hfvpl5a6WBaA=s64",
      "userId": "15047218817161520419"
     },
     "user_tz": -240
    },
    "id": "nHZ-LKv_ZRb3",
    "outputId": "718cc4b0-b5aa-40f0-9b20-d3d31730a531"
   },
   "outputs": [
    {
     "name": "stdout",
     "output_type": "stream",
     "text": [
      "Train on 8000 samples\n",
      "Epoch 1/100\n",
      "8000/8000 [==============================] - 0s 11us/sample - loss: 0.3274 - accuracy: 0.8658\n",
      "Epoch 2/100\n",
      "8000/8000 [==============================] - 0s 6us/sample - loss: 0.3275 - accuracy: 0.8665\n",
      "Epoch 3/100\n",
      "8000/8000 [==============================] - 0s 6us/sample - loss: 0.3272 - accuracy: 0.8659\n",
      "Epoch 4/100\n",
      "8000/8000 [==============================] - 0s 6us/sample - loss: 0.3274 - accuracy: 0.8665\n",
      "Epoch 5/100\n",
      "8000/8000 [==============================] - 0s 6us/sample - loss: 0.3275 - accuracy: 0.8656\n",
      "Epoch 6/100\n",
      "8000/8000 [==============================] - 0s 6us/sample - loss: 0.3273 - accuracy: 0.8669\n",
      "Epoch 7/100\n",
      "8000/8000 [==============================] - 0s 6us/sample - loss: 0.3279 - accuracy: 0.8661\n",
      "Epoch 8/100\n",
      "8000/8000 [==============================] - 0s 6us/sample - loss: 0.3276 - accuracy: 0.8669\n",
      "Epoch 9/100\n",
      "8000/8000 [==============================] - 0s 6us/sample - loss: 0.3279 - accuracy: 0.8670\n",
      "Epoch 10/100\n",
      "8000/8000 [==============================] - 0s 6us/sample - loss: 0.3275 - accuracy: 0.8673\n",
      "Epoch 11/100\n",
      "8000/8000 [==============================] - 0s 6us/sample - loss: 0.3272 - accuracy: 0.8670\n",
      "Epoch 12/100\n",
      "8000/8000 [==============================] - 0s 6us/sample - loss: 0.3274 - accuracy: 0.8660\n",
      "Epoch 13/100\n",
      "8000/8000 [==============================] - 0s 6us/sample - loss: 0.3276 - accuracy: 0.8662\n",
      "Epoch 14/100\n",
      "8000/8000 [==============================] - 0s 6us/sample - loss: 0.3273 - accuracy: 0.8664\n",
      "Epoch 15/100\n",
      "8000/8000 [==============================] - 0s 6us/sample - loss: 0.3272 - accuracy: 0.8669\n",
      "Epoch 16/100\n",
      "8000/8000 [==============================] - 0s 6us/sample - loss: 0.3272 - accuracy: 0.8664\n",
      "Epoch 17/100\n",
      "8000/8000 [==============================] - 0s 6us/sample - loss: 0.3278 - accuracy: 0.8665\n",
      "Epoch 18/100\n",
      "8000/8000 [==============================] - 0s 6us/sample - loss: 0.3275 - accuracy: 0.8658\n",
      "Epoch 19/100\n",
      "8000/8000 [==============================] - 0s 6us/sample - loss: 0.3274 - accuracy: 0.8666\n",
      "Epoch 20/100\n",
      "8000/8000 [==============================] - 0s 6us/sample - loss: 0.3274 - accuracy: 0.8660\n",
      "Epoch 21/100\n",
      "8000/8000 [==============================] - 0s 6us/sample - loss: 0.3274 - accuracy: 0.8658\n",
      "Epoch 22/100\n",
      "8000/8000 [==============================] - 0s 6us/sample - loss: 0.3274 - accuracy: 0.8671\n",
      "Epoch 23/100\n",
      "8000/8000 [==============================] - 0s 6us/sample - loss: 0.3277 - accuracy: 0.8654\n",
      "Epoch 24/100\n",
      "8000/8000 [==============================] - 0s 6us/sample - loss: 0.3271 - accuracy: 0.8662\n",
      "Epoch 25/100\n",
      "8000/8000 [==============================] - 0s 6us/sample - loss: 0.3274 - accuracy: 0.8659\n",
      "Epoch 26/100\n",
      "8000/8000 [==============================] - 0s 6us/sample - loss: 0.3273 - accuracy: 0.8659\n",
      "Epoch 27/100\n",
      "8000/8000 [==============================] - 0s 6us/sample - loss: 0.3271 - accuracy: 0.8662\n",
      "Epoch 28/100\n",
      "8000/8000 [==============================] - 0s 6us/sample - loss: 0.3273 - accuracy: 0.8676\n",
      "Epoch 29/100\n",
      "8000/8000 [==============================] - 0s 6us/sample - loss: 0.3274 - accuracy: 0.8677\n",
      "Epoch 30/100\n",
      "8000/8000 [==============================] - 0s 7us/sample - loss: 0.3271 - accuracy: 0.8658\n",
      "Epoch 31/100\n",
      "8000/8000 [==============================] - 0s 7us/sample - loss: 0.3274 - accuracy: 0.8669\n",
      "Epoch 32/100\n",
      "8000/8000 [==============================] - 0s 7us/sample - loss: 0.3275 - accuracy: 0.8675\n",
      "Epoch 33/100\n",
      "8000/8000 [==============================] - 0s 7us/sample - loss: 0.3274 - accuracy: 0.8680\n",
      "Epoch 34/100\n",
      "8000/8000 [==============================] - 0s 6us/sample - loss: 0.3275 - accuracy: 0.8661\n",
      "Epoch 35/100\n",
      "8000/8000 [==============================] - 0s 6us/sample - loss: 0.3275 - accuracy: 0.8671\n",
      "Epoch 36/100\n",
      "8000/8000 [==============================] - 0s 7us/sample - loss: 0.3274 - accuracy: 0.8662\n",
      "Epoch 37/100\n",
      "8000/8000 [==============================] - 0s 6us/sample - loss: 0.3273 - accuracy: 0.8660\n",
      "Epoch 38/100\n",
      "8000/8000 [==============================] - 0s 6us/sample - loss: 0.3272 - accuracy: 0.8659\n",
      "Epoch 39/100\n",
      "8000/8000 [==============================] - 0s 7us/sample - loss: 0.3275 - accuracy: 0.8662\n",
      "Epoch 40/100\n",
      "8000/8000 [==============================] - 0s 6us/sample - loss: 0.3271 - accuracy: 0.8658\n",
      "Epoch 41/100\n",
      "8000/8000 [==============================] - 0s 7us/sample - loss: 0.3274 - accuracy: 0.8662\n",
      "Epoch 42/100\n",
      "8000/8000 [==============================] - 0s 7us/sample - loss: 0.3277 - accuracy: 0.8668\n",
      "Epoch 43/100\n",
      "8000/8000 [==============================] - 0s 6us/sample - loss: 0.3278 - accuracy: 0.8669\n",
      "Epoch 44/100\n",
      "8000/8000 [==============================] - 0s 6us/sample - loss: 0.3273 - accuracy: 0.8671\n",
      "Epoch 45/100\n",
      "8000/8000 [==============================] - 0s 6us/sample - loss: 0.3273 - accuracy: 0.8656\n",
      "Epoch 46/100\n",
      "8000/8000 [==============================] - 0s 6us/sample - loss: 0.3274 - accuracy: 0.8659\n",
      "Epoch 47/100\n",
      "8000/8000 [==============================] - 0s 6us/sample - loss: 0.3275 - accuracy: 0.8661\n",
      "Epoch 48/100\n",
      "8000/8000 [==============================] - 0s 6us/sample - loss: 0.3275 - accuracy: 0.8654\n",
      "Epoch 49/100\n",
      "8000/8000 [==============================] - 0s 6us/sample - loss: 0.3272 - accuracy: 0.8666\n",
      "Epoch 50/100\n",
      "8000/8000 [==============================] - 0s 6us/sample - loss: 0.3272 - accuracy: 0.8664\n",
      "Epoch 51/100\n",
      "8000/8000 [==============================] - 0s 6us/sample - loss: 0.3278 - accuracy: 0.8655\n",
      "Epoch 52/100\n",
      "8000/8000 [==============================] - 0s 6us/sample - loss: 0.3273 - accuracy: 0.8666\n",
      "Epoch 53/100\n",
      "8000/8000 [==============================] - 0s 6us/sample - loss: 0.3273 - accuracy: 0.8669\n",
      "Epoch 54/100\n",
      "8000/8000 [==============================] - 0s 6us/sample - loss: 0.3275 - accuracy: 0.8652\n",
      "Epoch 55/100\n",
      "8000/8000 [==============================] - 0s 7us/sample - loss: 0.3271 - accuracy: 0.8668\n",
      "Epoch 56/100\n",
      "8000/8000 [==============================] - 0s 6us/sample - loss: 0.3273 - accuracy: 0.8673\n",
      "Epoch 57/100\n",
      "8000/8000 [==============================] - 0s 6us/sample - loss: 0.3273 - accuracy: 0.8664\n",
      "Epoch 58/100\n",
      "8000/8000 [==============================] - 0s 6us/sample - loss: 0.3274 - accuracy: 0.8662\n",
      "Epoch 59/100\n",
      "8000/8000 [==============================] - 0s 6us/sample - loss: 0.3272 - accuracy: 0.8686\n",
      "Epoch 60/100\n",
      "8000/8000 [==============================] - 0s 6us/sample - loss: 0.3277 - accuracy: 0.8664\n",
      "Epoch 61/100\n",
      "8000/8000 [==============================] - 0s 6us/sample - loss: 0.3273 - accuracy: 0.8670\n",
      "Epoch 62/100\n",
      "8000/8000 [==============================] - 0s 6us/sample - loss: 0.3275 - accuracy: 0.8662\n",
      "Epoch 63/100\n",
      "8000/8000 [==============================] - 0s 6us/sample - loss: 0.3273 - accuracy: 0.8659\n",
      "Epoch 64/100\n",
      "8000/8000 [==============================] - 0s 6us/sample - loss: 0.3276 - accuracy: 0.8668\n",
      "Epoch 65/100\n",
      "8000/8000 [==============================] - 0s 6us/sample - loss: 0.3274 - accuracy: 0.8656\n",
      "Epoch 66/100\n",
      "8000/8000 [==============================] - 0s 6us/sample - loss: 0.3275 - accuracy: 0.8668\n",
      "Epoch 67/100\n",
      "8000/8000 [==============================] - 0s 6us/sample - loss: 0.3275 - accuracy: 0.8666\n",
      "Epoch 68/100\n",
      "8000/8000 [==============================] - 0s 6us/sample - loss: 0.3275 - accuracy: 0.8668\n",
      "Epoch 69/100\n",
      "8000/8000 [==============================] - 0s 6us/sample - loss: 0.3275 - accuracy: 0.8662\n",
      "Epoch 70/100\n",
      "8000/8000 [==============================] - 0s 6us/sample - loss: 0.3273 - accuracy: 0.8662\n",
      "Epoch 71/100\n",
      "8000/8000 [==============================] - 0s 8us/sample - loss: 0.3274 - accuracy: 0.8677\n",
      "Epoch 72/100\n",
      "8000/8000 [==============================] - 0s 7us/sample - loss: 0.3274 - accuracy: 0.8669\n",
      "Epoch 73/100\n",
      "8000/8000 [==============================] - 0s 6us/sample - loss: 0.3275 - accuracy: 0.8666\n",
      "Epoch 74/100\n",
      "8000/8000 [==============================] - 0s 6us/sample - loss: 0.3275 - accuracy: 0.8664\n",
      "Epoch 75/100\n",
      "8000/8000 [==============================] - 0s 6us/sample - loss: 0.3274 - accuracy: 0.8669\n",
      "Epoch 76/100\n",
      "8000/8000 [==============================] - 0s 6us/sample - loss: 0.3273 - accuracy: 0.8660\n",
      "Epoch 77/100\n",
      "8000/8000 [==============================] - 0s 6us/sample - loss: 0.3276 - accuracy: 0.8664\n",
      "Epoch 78/100\n",
      "8000/8000 [==============================] - 0s 6us/sample - loss: 0.3273 - accuracy: 0.8661\n",
      "Epoch 79/100\n",
      "8000/8000 [==============================] - 0s 6us/sample - loss: 0.3275 - accuracy: 0.8656\n",
      "Epoch 80/100\n",
      "8000/8000 [==============================] - 0s 6us/sample - loss: 0.3275 - accuracy: 0.8665\n",
      "Epoch 81/100\n",
      "8000/8000 [==============================] - 0s 6us/sample - loss: 0.3274 - accuracy: 0.8648\n",
      "Epoch 82/100\n",
      "8000/8000 [==============================] - 0s 6us/sample - loss: 0.3274 - accuracy: 0.8668\n",
      "Epoch 83/100\n",
      "8000/8000 [==============================] - 0s 6us/sample - loss: 0.3276 - accuracy: 0.8668\n",
      "Epoch 84/100\n",
      "8000/8000 [==============================] - 0s 6us/sample - loss: 0.3273 - accuracy: 0.8665\n",
      "Epoch 85/100\n",
      "8000/8000 [==============================] - 0s 6us/sample - loss: 0.3275 - accuracy: 0.8659\n",
      "Epoch 86/100\n",
      "8000/8000 [==============================] - 0s 6us/sample - loss: 0.3274 - accuracy: 0.8665\n",
      "Epoch 87/100\n",
      "8000/8000 [==============================] - 0s 6us/sample - loss: 0.3274 - accuracy: 0.8665\n",
      "Epoch 88/100\n",
      "8000/8000 [==============================] - 0s 6us/sample - loss: 0.3276 - accuracy: 0.8670\n",
      "Epoch 89/100\n",
      "8000/8000 [==============================] - 0s 6us/sample - loss: 0.3273 - accuracy: 0.8668\n",
      "Epoch 90/100\n",
      "8000/8000 [==============================] - 0s 6us/sample - loss: 0.3272 - accuracy: 0.8674\n",
      "Epoch 91/100\n",
      "8000/8000 [==============================] - 0s 6us/sample - loss: 0.3273 - accuracy: 0.8668\n",
      "Epoch 92/100\n",
      "8000/8000 [==============================] - 0s 6us/sample - loss: 0.3272 - accuracy: 0.8671\n",
      "Epoch 93/100\n",
      "8000/8000 [==============================] - 0s 6us/sample - loss: 0.3272 - accuracy: 0.8668\n",
      "Epoch 94/100\n",
      "8000/8000 [==============================] - 0s 6us/sample - loss: 0.3272 - accuracy: 0.8673\n",
      "Epoch 95/100\n",
      "8000/8000 [==============================] - 0s 6us/sample - loss: 0.3274 - accuracy: 0.8668\n",
      "Epoch 96/100\n",
      "8000/8000 [==============================] - 0s 6us/sample - loss: 0.3273 - accuracy: 0.8666\n",
      "Epoch 97/100\n",
      "8000/8000 [==============================] - 0s 6us/sample - loss: 0.3272 - accuracy: 0.8664\n",
      "Epoch 98/100\n",
      "8000/8000 [==============================] - 0s 6us/sample - loss: 0.3273 - accuracy: 0.8664\n",
      "Epoch 99/100\n",
      "8000/8000 [==============================] - 0s 6us/sample - loss: 0.3274 - accuracy: 0.8664\n",
      "Epoch 100/100\n",
      "8000/8000 [==============================] - 0s 6us/sample - loss: 0.3273 - accuracy: 0.8669\n"
     ]
    },
    {
     "data": {
      "text/plain": [
       "<tensorflow.python.keras.callbacks.History at 0x7fab20a50350>"
      ]
     },
     "execution_count": 102,
     "metadata": {},
     "output_type": "execute_result"
    }
   ],
   "source": [
    "ann.fit(X_train, y_train, batch_size = 200, epochs = 100)"
   ]
  },
  {
   "cell_type": "markdown",
   "metadata": {
    "colab_type": "text",
    "id": "tJj5k2MxZga3"
   },
   "source": [
    "## Part 4 - Making the predictions and evaluating the model"
   ]
  },
  {
   "cell_type": "markdown",
   "metadata": {
    "colab_type": "text",
    "id": "84QFoqGYeXHL"
   },
   "source": [
    "### Predicting the result of a single observation"
   ]
  },
  {
   "cell_type": "markdown",
   "metadata": {
    "colab_type": "text",
    "id": "CGRo3eacgDdC"
   },
   "source": [
    "\n",
    "Geography: France\n",
    "\n",
    "Credit Score: 600\n",
    "\n",
    "Gender: Male\n",
    "\n",
    "Age: 40 years old\n",
    "\n",
    "Tenure: 3 years\n",
    "\n",
    "Balance: \\$ 60000\n",
    "\n",
    "Number of Products: 2\n",
    "\n",
    "Does this customer have a credit card? Yes\n",
    "\n",
    "Is this customer an Active Member: Yes\n",
    "\n",
    "Estimated Salary: \\$ 50000\n",
    "\n",
    "So, should we say goodbye to that customer?   True = Yes , False = No"
   ]
  },
  {
   "cell_type": "code",
   "execution_count": 103,
   "metadata": {
    "colab": {
     "base_uri": "https://localhost:8080/",
     "height": 34
    },
    "colab_type": "code",
    "executionInfo": {
     "elapsed": 33990,
     "status": "ok",
     "timestamp": 1590257481594,
     "user": {
      "displayName": "Hadelin de Ponteves",
      "photoUrl": "https://lh3.googleusercontent.com/a-/AOh14GhEuXdT7eQweUmRPW8_laJuPggSK6hfvpl5a6WBaA=s64",
      "userId": "15047218817161520419"
     },
     "user_tz": -240
    },
    "id": "2d8IoCCkeWGL",
    "outputId": "957f3970-e197-4c3b-a150-7f69dc567f5d"
   },
   "outputs": [
    {
     "name": "stdout",
     "output_type": "stream",
     "text": [
      "[[False]]\n"
     ]
    }
   ],
   "source": [
    "print(ann.predict(sc.transform([[1, 0, 0, 600, 1, 40, 3, 60000, 2, 1, 1, 50000]])) > 0.5)"
   ]
  },
  {
   "cell_type": "markdown",
   "metadata": {
    "colab_type": "text",
    "id": "u7yx47jPZt11"
   },
   "source": [
    "### Predicting the Test set results"
   ]
  },
  {
   "cell_type": "code",
   "execution_count": 104,
   "metadata": {
    "colab": {
     "base_uri": "https://localhost:8080/",
     "height": 137
    },
    "colab_type": "code",
    "executionInfo": {
     "elapsed": 33987,
     "status": "ok",
     "timestamp": 1590257481595,
     "user": {
      "displayName": "Hadelin de Ponteves",
      "photoUrl": "https://lh3.googleusercontent.com/a-/AOh14GhEuXdT7eQweUmRPW8_laJuPggSK6hfvpl5a6WBaA=s64",
      "userId": "15047218817161520419"
     },
     "user_tz": -240
    },
    "id": "nIyEeQdRZwgs",
    "outputId": "82330ba8-9bdc-4fd1-d3cf-b6d78ee7c2a3"
   },
   "outputs": [
    {
     "name": "stdout",
     "output_type": "stream",
     "text": [
      "[[0 0]\n",
      " [0 1]\n",
      " [0 0]\n",
      " ...\n",
      " [0 0]\n",
      " [0 0]\n",
      " [0 0]]\n"
     ]
    }
   ],
   "source": [
    "y_pred = ann.predict(X_test)\n",
    "y_pred = (y_pred > 0.5)\n",
    "print(np.concatenate((y_pred.reshape(len(y_pred),1), y_test.reshape(len(y_test),1)),1))"
   ]
  },
  {
   "cell_type": "code",
   "execution_count": 105,
   "metadata": {
    "colab": {
     "base_uri": "https://localhost:8080/",
     "height": 68
    },
    "colab_type": "code",
    "executionInfo": {
     "elapsed": 33981,
     "status": "ok",
     "timestamp": 1590257481595,
     "user": {
      "displayName": "Hadelin de Ponteves",
      "photoUrl": "https://lh3.googleusercontent.com/a-/AOh14GhEuXdT7eQweUmRPW8_laJuPggSK6hfvpl5a6WBaA=s64",
      "userId": "15047218817161520419"
     },
     "user_tz": -240
    },
    "id": "ci6K_r6LaF6P",
    "outputId": "4d854e9e-22d5-432f-f6e5-a102fe3ae0bd"
   },
   "outputs": [
    {
     "name": "stdout",
     "output_type": "stream",
     "text": [
      "[[1520   75]\n",
      " [ 206  199]]\n"
     ]
    },
    {
     "data": {
      "text/plain": [
       "0.8595"
      ]
     },
     "execution_count": 105,
     "metadata": {},
     "output_type": "execute_result"
    }
   ],
   "source": [
    "from sklearn.metrics import confusion_matrix, accuracy_score\n",
    "cm = confusion_matrix(y_test, y_pred)\n",
    "print(cm)\n",
    "accuracy_score(y_test, y_pred)"
   ]
  },
  {
   "cell_type": "code",
   "execution_count": 109,
   "metadata": {},
   "outputs": [],
   "source": [
    "# 85.95 % accurate\n",
    "\n",
    "# 1520 correct predictions that the customer stays\n",
    "# 75 incorrect predictions that the customer stays\n",
    "# 206 correct predictions that the customer leaves\n",
    "# 199 incorrect predictions that the customer leaves\n"
   ]
  }
 ],
 "metadata": {
  "colab": {
   "authorship_tag": "ABX9TyMeRFWFoGrdaL5S3dx5MWmb",
   "collapsed_sections": [],
   "name": "artificial_neural_network.ipynb",
   "provenance": [],
   "toc_visible": true
  },
  "kernelspec": {
   "display_name": "Python 3 (ipykernel)",
   "language": "python",
   "name": "python3"
  },
  "language_info": {
   "codemirror_mode": {
    "name": "ipython",
    "version": 3
   },
   "file_extension": ".py",
   "mimetype": "text/x-python",
   "name": "python",
   "nbconvert_exporter": "python",
   "pygments_lexer": "ipython3",
   "version": "3.7.13"
  }
 },
 "nbformat": 4,
 "nbformat_minor": 1
}
