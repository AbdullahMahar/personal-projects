{
 "cells": [
  {
   "cell_type": "markdown",
   "id": "e3e86f5b",
   "metadata": {},
   "source": [
    "# Step 1) Create a function to display board"
   ]
  },
  {
   "cell_type": "code",
   "execution_count": 1,
   "id": "9279af52",
   "metadata": {},
   "outputs": [],
   "source": [
    "\n",
    "from IPython.display import clear_output\n",
    "\n",
    "def display_board(board):\n",
    "    \n",
    "    clear_output()    \n",
    "    \n",
    "    print('   |   |')\n",
    "    print(' ' + board[1] + ' | ' + board[2] + ' | ' + board[3])\n",
    "    print('   |   |')\n",
    "    print('-----------')\n",
    "    print('   |   |')\n",
    "    print(' ' + board[4] + ' | ' + board[5] + ' | ' + board[6])\n",
    "    print('   |   |')\n",
    "    print('-----------')\n",
    "    print('   |   |')\n",
    "    print(' ' + board[7] + ' | ' + board[8] + ' | ' + board[9])\n",
    "    print('   |   |')\n",
    " \n",
    "    "
   ]
  },
  {
   "cell_type": "code",
   "execution_count": 2,
   "id": "b5166a8a",
   "metadata": {},
   "outputs": [
    {
     "name": "stdout",
     "output_type": "stream",
     "text": [
      "   |   |\n",
      " X | X | O\n",
      "   |   |\n",
      "-----------\n",
      "   |   |\n",
      " O | X | X\n",
      "   |   |\n",
      "-----------\n",
      "   |   |\n",
      " O | X | O\n",
      "   |   |\n"
     ]
    }
   ],
   "source": [
    "# test board\n",
    "test_board=['#','X','X','O','O','X','X','O','X','O']\n",
    "display_board(test_board)"
   ]
  },
  {
   "cell_type": "markdown",
   "id": "42750251",
   "metadata": {},
   "source": [
    "# Step 2) Taking player inputs to assign their markers 'X' and 'O'."
   ]
  },
  {
   "cell_type": "code",
   "execution_count": 3,
   "id": "142ee5b4",
   "metadata": {},
   "outputs": [],
   "source": [
    "def player_input():\n",
    "    marker = ''\n",
    "    \n",
    "    while not (marker == 'X' or marker == 'O'):\n",
    "        marker = input('Player 1: Do you want to be X or O? ').upper()\n",
    "\n",
    "    if marker == 'X':\n",
    "        return ('X', 'O')\n",
    "    else:\n",
    "        return ('O', 'X')\n",
    "        "
   ]
  },
  {
   "cell_type": "markdown",
   "id": "1893950f",
   "metadata": {},
   "source": [
    "# Step 3) Function to place marker on board"
   ]
  },
  {
   "cell_type": "code",
   "execution_count": 4,
   "id": "a0155224",
   "metadata": {},
   "outputs": [],
   "source": [
    "def place_marker(board, marker, position):\n",
    "    board[position] = marker"
   ]
  },
  {
   "cell_type": "code",
   "execution_count": 5,
   "id": "a370b069",
   "metadata": {},
   "outputs": [
    {
     "name": "stdout",
     "output_type": "stream",
     "text": [
      "   |   |\n",
      " X | X | O\n",
      "   |   |\n",
      "-----------\n",
      "   |   |\n",
      " O | % | X\n",
      "   |   |\n",
      "-----------\n",
      "   |   |\n",
      " O | X | O\n",
      "   |   |\n"
     ]
    }
   ],
   "source": [
    "place_marker(test_board, '%' , 5)\n",
    "display_board(test_board)"
   ]
  },
  {
   "cell_type": "markdown",
   "id": "15528a5d",
   "metadata": {},
   "source": [
    "# Step 4) Check to see if any one has won"
   ]
  },
  {
   "cell_type": "code",
   "execution_count": 6,
   "id": "790f556e",
   "metadata": {},
   "outputs": [],
   "source": [
    "# a player has won if a marker is same on 3 rows , 3 columns and 2 diagonals.\n",
    "\n",
    "def win_check(board,mark):\n",
    "    \n",
    "    return((board[1]== mark and board[2] == mark and board[3] == mark) or\n",
    "    (board[4]== mark and board[5] == mark and board[6] == mark) or\n",
    "    (board[7]== mark and board[8] == mark and board[9] == mark) or\n",
    "    (board[1]== mark and board[4] == mark and board[7] == mark) or\n",
    "    (board[2]== mark and board[5] == mark and board[8] == mark) or\n",
    "    (board[3]== mark and board[6] == mark and board[9] == mark) or\n",
    "    (board[1]== mark and board[5] == mark and board[9] == mark) or\n",
    "    (board[3]== mark and board[5] == mark and board[7] == mark))\n",
    "    \n",
    "    \n",
    "    "
   ]
  },
  {
   "cell_type": "code",
   "execution_count": 7,
   "id": "cf24aa66",
   "metadata": {},
   "outputs": [
    {
     "name": "stdout",
     "output_type": "stream",
     "text": [
      "   |   |\n",
      " X | X | X\n",
      "   |   |\n",
      "-----------\n",
      "   |   |\n",
      " O | % | X\n",
      "   |   |\n",
      "-----------\n",
      "   |   |\n",
      " O | X | O\n",
      "   |   |\n"
     ]
    }
   ],
   "source": [
    "place_marker(test_board, 'X' , 3)\n",
    "display_board(test_board)"
   ]
  },
  {
   "cell_type": "code",
   "execution_count": 8,
   "id": "399edaad",
   "metadata": {},
   "outputs": [
    {
     "data": {
      "text/plain": [
       "True"
      ]
     },
     "execution_count": 8,
     "metadata": {},
     "output_type": "execute_result"
    }
   ],
   "source": [
    "win_check(test_board, 'X')     #returns True meaning 'X' has won"
   ]
  },
  {
   "cell_type": "markdown",
   "id": "4ebd57aa",
   "metadata": {},
   "source": [
    "# Step 5) Function to decide who goes first"
   ]
  },
  {
   "cell_type": "code",
   "execution_count": 9,
   "id": "b7af17cb",
   "metadata": {},
   "outputs": [],
   "source": [
    "import random\n",
    "\n",
    "def choose_first():\n",
    "    flip = random.randint(0,1)\n",
    "    if flip == 0:\n",
    "        return 'Player 1 goes First !'\n",
    "    else:\n",
    "        return 'Player 2 goes First !'"
   ]
  },
  {
   "cell_type": "code",
   "execution_count": 10,
   "id": "93d48575",
   "metadata": {},
   "outputs": [
    {
     "data": {
      "text/plain": [
       "'Player 2 goes First !'"
      ]
     },
     "execution_count": 10,
     "metadata": {},
     "output_type": "execute_result"
    }
   ],
   "source": [
    "choose_first()"
   ]
  },
  {
   "cell_type": "markdown",
   "id": "fe1a4eed",
   "metadata": {},
   "source": [
    "# Step 6) Check if a space on the board is freely available."
   ]
  },
  {
   "cell_type": "code",
   "execution_count": 11,
   "id": "7f7b40f6",
   "metadata": {},
   "outputs": [],
   "source": [
    "def space_check(board,position):\n",
    "    \n",
    "    return board[position] == ' '\n",
    "    "
   ]
  },
  {
   "cell_type": "markdown",
   "id": "6eead242",
   "metadata": {},
   "source": [
    "# Step 7) Check if the board is Full."
   ]
  },
  {
   "cell_type": "code",
   "execution_count": 12,
   "id": "8766505f",
   "metadata": {},
   "outputs": [],
   "source": [
    "def full_board_check(board):\n",
    "    for i in range(1,10):\n",
    "        if space_check(board,i):               # the board will return True if Full, False if not.\n",
    "            return False\n",
    "    return True      \n",
    "        "
   ]
  },
  {
   "cell_type": "markdown",
   "id": "fc91bb12",
   "metadata": {},
   "source": [
    "# Step 8) Function for players next move."
   ]
  },
  {
   "cell_type": "code",
   "execution_count": 13,
   "id": "d4c4e52e",
   "metadata": {},
   "outputs": [],
   "source": [
    "def player_choice(board):\n",
    "    position = 0\n",
    "    \n",
    "    while position not in [1,2,3,4,5,6,7,8,9] or not space_check(board, position):\n",
    "        position = int(input('Choose your next position: (1-9) '))\n",
    "        \n",
    "    return position\n",
    "    \n",
    "    \n",
    "    "
   ]
  },
  {
   "cell_type": "markdown",
   "id": "418112b0",
   "metadata": {},
   "source": [
    "# Step 9) Play again option."
   ]
  },
  {
   "cell_type": "code",
   "execution_count": 14,
   "id": "6520753d",
   "metadata": {},
   "outputs": [],
   "source": [
    "def replay():\n",
    "    choice = input('Play again? y or n = ').upper()\n",
    "    \n",
    "    return choice == 'y'"
   ]
  },
  {
   "cell_type": "markdown",
   "id": "c871d293",
   "metadata": {},
   "source": [
    "# All DONE !!!!!"
   ]
  },
  {
   "cell_type": "code",
   "execution_count": 15,
   "id": "f7ab4cad",
   "metadata": {},
   "outputs": [
    {
     "name": "stdout",
     "output_type": "stream",
     "text": [
      "   |   |\n",
      " X | O | O\n",
      "   |   |\n",
      "-----------\n",
      "   |   |\n",
      " X |   |  \n",
      "   |   |\n",
      "-----------\n",
      "   |   |\n",
      " X |   | O\n",
      "   |   |\n",
      "Congratulations! Player 1 has won the game!\n",
      "Play again? y or n = n\n"
     ]
    }
   ],
   "source": [
    "print('Welcome to Tic Tac Toe!')\n",
    "\n",
    "while True:\n",
    "    \n",
    "    theBoard = [' '] * 10\n",
    "    player1_marker, player2_marker = player_input()\n",
    "    turn = choose_first()\n",
    "    print(turn)\n",
    "    \n",
    "    play_game = input('Are you ready to play? Enter Yes or No.')\n",
    "    \n",
    "    if play_game.lower()[0] == 'y':\n",
    "        game_on = True\n",
    "    else:\n",
    "        game_on = False\n",
    "\n",
    "    while game_on:\n",
    "        if turn == 'Player 1':\n",
    "            \n",
    "            \n",
    "            display_board(theBoard)\n",
    "            position = player_choice(theBoard)\n",
    "            place_marker(theBoard, player1_marker, position)\n",
    "\n",
    "            if win_check(theBoard, player1_marker):\n",
    "                display_board(theBoard)\n",
    "                print('Congratulations! Player 1 has won the game!')\n",
    "                game_on = False\n",
    "            else:\n",
    "                if full_board_check(theBoard):\n",
    "                    display_board(theBoard)\n",
    "                    print('The game is a draw!')\n",
    "                    break\n",
    "                else:\n",
    "                    turn = 'Player 2'\n",
    "\n",
    "        else:\n",
    "           \n",
    "            \n",
    "            display_board(theBoard)\n",
    "            position = player_choice(theBoard)\n",
    "            place_marker(theBoard, player2_marker, position)\n",
    "\n",
    "            if win_check(theBoard, player2_marker):\n",
    "                display_board(theBoard)\n",
    "                print('Player 2 has won!')\n",
    "                game_on = False\n",
    "            else:\n",
    "                if full_board_check(theBoard):\n",
    "                    display_board(theBoard)\n",
    "                    print('The game is a draw!')\n",
    "                    break\n",
    "                else:\n",
    "                    turn = 'Player 1'\n",
    "\n",
    "    if not replay():\n",
    "        break"
   ]
  },
  {
   "cell_type": "code",
   "execution_count": null,
   "id": "561aac21",
   "metadata": {},
   "outputs": [],
   "source": []
  }
 ],
 "metadata": {
  "kernelspec": {
   "display_name": "Python 3 (ipykernel)",
   "language": "python",
   "name": "python3"
  },
  "language_info": {
   "codemirror_mode": {
    "name": "ipython",
    "version": 3
   },
   "file_extension": ".py",
   "mimetype": "text/x-python",
   "name": "python",
   "nbconvert_exporter": "python",
   "pygments_lexer": "ipython3",
   "version": "3.7.13"
  }
 },
 "nbformat": 4,
 "nbformat_minor": 5
}
